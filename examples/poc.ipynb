{
 "cells": [
  {
   "cell_type": "markdown",
   "id": "0adf4396",
   "metadata": {},
   "source": [
    "# Quarto\n",
    "\n",
    "## Objective\n",
    "\n",
    "To create a line of four pieces (horizontal, vertical, or diagonal) that share at least one common characteristic:\n",
    "\n",
    "- Color: light or dark\n",
    "- Shape: round or square\n",
    "- Height: tall or short\n",
    "- Top: solid or hollow\n",
    "\n",
    "The twist: you choose the piece your opponent must place on the board.\n",
    "\n",
    "## Game Setup\n",
    "\n",
    "- Board: 4x4 grid (16 positions)\n",
    "- Pieces: 16 unique combinations of 4 binary characteristics (2⁴ = 16)\n",
    "\n",
    "## Gameplay Sequence\n",
    "\n",
    "1. Player A chooses a piece (from the 16 available) and gives it to Player B.\n",
    "2. Player B places the piece on any empty square, then selects a new piece (from the remaining 15) and gives it to Player A.\n",
    "3. Continue until someone forms a winning line or all squares are filled (draw).\n",
    "\n",
    "## Strategic Depth\n",
    "\n",
    "Because you give your opponent their piece:\n",
    "\n",
    "- You try to avoid giving them a winning move\n",
    "- And you try to force them into giving you a winning opportunity\n",
    "\n",
    "## Game Complexity\n",
    "\n",
    "Each turn involves two key decisions:\n",
    "\n",
    "1. Placement: Choose 1 of up to 16 (later fewer) empty squares.\n",
    "2. Piece selection: Choose 1 of the remaining unplaced pieces for the opponent.\n",
    "\n",
    "### Game Tree Size\n",
    "\n",
    "Turn 1: 16 choices (piece to give)  \n",
    "Turn 3: 15 placements × 14 piece choices  \n",
    "Turn 2: 16 placements × 15 piece choices  \n",
    "...  \n",
    "Final Turn: Placement of the last piece\n",
    "\n",
    "While not all paths are valid due to early wins, the maximum number of game states is large:\n",
    "\n",
    "- 16! piece placements × 16! orderings ≈ 2×10³⁶ possible games (theoretical upper bound)\n"
   ]
  },
  {
   "cell_type": "code",
   "execution_count": null,
   "id": "ece40750",
   "metadata": {},
   "outputs": [],
   "source": [
    "import sys\n",
    "import logging\n",
    "\n",
    "sys.path.append(\"../src\")\n",
    "logging.basicConfig(\n",
    "    level=logging.DEBUG,\n",
    ")"
   ]
  },
  {
   "cell_type": "code",
   "execution_count": null,
   "id": "8016561e",
   "metadata": {},
   "outputs": [],
   "source": [
    "from quarto_lib import TournamentRound\n",
    "from agents.random.agent import Agent as RandomAgent\n",
    "from agents.minimax.agent import Agent as MiniMaxAgent\n",
    "\n",
    "round = TournamentRound(MiniMaxAgent(depth_limits=(2, 3, 5)), MiniMaxAgent(depth_limits=(2, 3, 5)), best_of=1)\n",
    "round.play()\n",
    "print(f\"Scores after {round.current_game + 1} games: Player 1: {round.scores[0]}, Player 2: {round.scores[1]}\")"
   ]
  }
 ],
 "metadata": {
  "kernelspec": {
   "display_name": ".venv",
   "language": "python",
   "name": "python3"
  },
  "language_info": {
   "codemirror_mode": {
    "name": "ipython",
    "version": 3
   },
   "file_extension": ".py",
   "mimetype": "text/x-python",
   "name": "python",
   "nbconvert_exporter": "python",
   "pygments_lexer": "ipython3",
   "version": "3.13.3"
  }
 },
 "nbformat": 4,
 "nbformat_minor": 5
}
